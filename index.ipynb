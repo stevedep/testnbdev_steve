{
 "cells": [
  {
   "cell_type": "markdown",
   "metadata": {},
   "source": [
    "# ClickUp Shift and Score\n",
    "\n",
    "> This module allows you to shift tasks and to score them. Scoring does require custom fields."
   ]
  },
  {
   "cell_type": "markdown",
   "metadata": {},
   "source": [
    "## Install"
   ]
  },
  {
   "cell_type": "markdown",
   "metadata": {},
   "source": [
    "`pip install CUFT`"
   ]
  },
  {
   "cell_type": "markdown",
   "metadata": {},
   "source": [
    "## How to use"
   ]
  },
  {
   "cell_type": "code",
   "execution_count": 1,
   "metadata": {},
   "outputs": [],
   "source": [
    "from CUFT import CUFile as CUS"
   ]
  },
  {
   "cell_type": "code",
   "execution_count": 3,
   "metadata": {},
   "outputs": [
    {
     "data": {
      "text/plain": [
       "['CU',\n",
       " '__all__',\n",
       " '__builtins__',\n",
       " '__cached__',\n",
       " '__doc__',\n",
       " '__file__',\n",
       " '__loader__',\n",
       " '__name__',\n",
       " '__package__',\n",
       " '__spec__',\n",
       " 'datetime',\n",
       " 'http',\n",
       " 'json',\n",
       " 'quote_plus',\n",
       " 'time',\n",
       " 'timedelta',\n",
       " 'urlencode',\n",
       " 'urllib']"
      ]
     },
     "execution_count": 3,
     "metadata": {},
     "output_type": "execute_result"
    }
   ],
   "source": [
    "dir(CUS)"
   ]
  },
  {
   "cell_type": "markdown",
   "metadata": {},
   "source": [
    "## Getting your token\n",
    "\n",
    "> Finding your token:\n",
    "> \n",
    "> Navigate to your personal Settings \n",
    ">\n",
    "> Click Apps  in the left sidebar\n",
    ">\n",
    "> Click Generate  to create your API token\n",
    ">\n",
    "> Click Copy  to copy the key to your clipboard "
   ]
  },
  {
   "cell_type": "code",
   "execution_count": 4,
   "metadata": {},
   "outputs": [],
   "source": [
    "DemoCU = CUS.CU('pk_42327425_NPYWMF9GG6AQY7OZF36QRXL8XXXS65J7')"
   ]
  },
  {
   "cell_type": "code",
   "execution_count": 5,
   "metadata": {},
   "outputs": [
    {
     "data": {
      "text/plain": [
       "['__class__',\n",
       " '__delattr__',\n",
       " '__dict__',\n",
       " '__dir__',\n",
       " '__doc__',\n",
       " '__eq__',\n",
       " '__format__',\n",
       " '__ge__',\n",
       " '__getattribute__',\n",
       " '__gt__',\n",
       " '__hash__',\n",
       " '__init__',\n",
       " '__init_subclass__',\n",
       " '__le__',\n",
       " '__lt__',\n",
       " '__module__',\n",
       " '__ne__',\n",
       " '__new__',\n",
       " '__reduce__',\n",
       " '__reduce_ex__',\n",
       " '__repr__',\n",
       " '__setattr__',\n",
       " '__sizeof__',\n",
       " '__str__',\n",
       " '__subclasshook__',\n",
       " '__weakref__',\n",
       " 'apikey',\n",
       " 'folderdata',\n",
       " 'shiftstartandduedate',\n",
       " 'updatepriority',\n",
       " 'updatescore',\n",
       " 'updatetasks',\n",
       " 'urlrequest']"
      ]
     },
     "execution_count": 5,
     "metadata": {},
     "output_type": "execute_result"
    }
   ],
   "source": [
    "dir(DemoCU)"
   ]
  },
  {
   "cell_type": "code",
   "execution_count": 6,
   "metadata": {},
   "outputs": [
    {
     "name": "stdout",
     "output_type": "stream",
     "text": [
      "Achter computer of buro\n",
      "'value'\n",
      "Python webscrape magister\n",
      "'value'\n",
      "Python Development\n",
      "'value'\n",
      "Feestje pepijn\n",
      "'value'\n",
      "Outlander naar garage voor regulier onderhoud \n",
      "'value'\n",
      "datumprikker BBQ\n",
      "'value'\n",
      "xbox beperken\n",
      "'value'\n",
      "chrores up\n",
      "'value'\n",
      "proces gele doekjes\n",
      "'value'\n",
      "Verjaardag Pepijn\n",
      "Huis\n",
      "'value'\n",
      "koffie kalk\n",
      "'value'\n",
      "Fix hue\n",
      "'value'\n",
      "deurdempers\n",
      "'value'\n",
      "messen wisselen\n",
      "Op pad / Naar Winkel\n",
      "'value'\n",
      "vliegenspray\n",
      "'value'\n",
      "apotheek afval\n",
      "Gezinsplanning\n",
      "score updated for: \n",
      "vakantie plannen\n",
      "Projecten\n"
     ]
    }
   ],
   "source": [
    "DemoCU.updatetasks('score', 1)"
   ]
  }
 ],
 "metadata": {
  "kernelspec": {
   "display_name": "Python 3",
   "language": "python",
   "name": "python3"
  },
  "language_info": {
   "codemirror_mode": {
    "name": "ipython",
    "version": 3
   },
   "file_extension": ".py",
   "mimetype": "text/x-python",
   "name": "python",
   "nbconvert_exporter": "python",
   "pygments_lexer": "ipython3",
   "version": "3.8.5"
  }
 },
 "nbformat": 4,
 "nbformat_minor": 2
}
